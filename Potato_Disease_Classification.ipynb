{
  "cells": [
    {
      "attachments": {},
      "cell_type": "markdown",
      "metadata": {
        "colab_type": "text",
        "id": "view-in-github"
      },
      "source": [
        "<a href=\"https://colab.research.google.com/github/Mukish45/Plant-Disease-Identification/blob/main/Potato_Disease_Classification.ipynb\" target=\"_parent\"><img src=\"https://colab.research.google.com/assets/colab-badge.svg\" alt=\"Open In Colab\"/></a>"
      ]
    },
    {
      "cell_type": "code",
      "execution_count": 1,
      "metadata": {
        "id": "0Ckckai4wKak"
      },
      "outputs": [],
      "source": [
        "import tensorflow as tf\n",
        "from tensorflow import keras\n",
        "from tensorflow.keras import layers, models\n",
        "from tensorflow.keras.preprocessing.image import ImageDataGenerator\n",
        "from tensorflow.keras.models import Sequential\n",
        "from tensorflow.keras.layers import Conv2D, MaxPool2D, Flatten, Dense, Dropout\n",
        "\n",
        "import os\n",
        "import shutil\n",
        "import zipfile"
      ]
    },
    {
      "cell_type": "code",
      "execution_count": 3,
      "metadata": {
        "id": "DIOUc3UQwVWR"
      },
      "outputs": [
        {
          "name": "stdout",
          "output_type": "stream",
          "text": [
            "<zipfile.ZipFile filename='C:/Users/Theeraj/Downloads/archive (1).zip' mode='r'>\n"
          ]
        }
      ],
      "source": [
        "local_zip = 'C:/Users/Theeraj/Downloads/archive (1).zip'\n",
        "zip_ref = zipfile.ZipFile(local_zip, 'r')\n",
        "print(zip_ref)\n",
        "zip_ref.extractall()"
      ]
    },
    {
      "cell_type": "code",
      "execution_count": 5,
      "metadata": {
        "colab": {
          "base_uri": "https://localhost:8080/"
        },
        "id": "qp4TkbUTyQKc",
        "outputId": "56abb5c1-1996-4091-dc84-d59f18e2f197"
      },
      "outputs": [
        {
          "name": "stdout",
          "output_type": "stream",
          "text": [
            "100\n",
            "100\n",
            "100\n"
          ]
        }
      ],
      "source": [
        "print(len(os.listdir(r'C:\\Users\\Theeraj\\Downloads\\Potato-Disease-Identification-main\\Potato\\Test\\Potato___Early_blight')))\n",
        "print(len(os.listdir(r'C:\\Users\\Theeraj\\Downloads\\Potato-Disease-Identification-main\\Potato\\Test\\Potato___healthy')))\n",
        "print(len(os.listdir(r'C:\\Users\\Theeraj\\Downloads\\Potato-Disease-Identification-main\\Potato\\Test\\Potato___Late_blight')))"
      ]
    },
    {
      "cell_type": "code",
      "execution_count": null,
      "metadata": {
        "colab": {
          "base_uri": "https://localhost:8080/"
        },
        "id": "5IDXNer3ymTJ",
        "outputId": "c3fe185d-838c-4c21-8b6a-ba3b533c45bc"
      },
      "outputs": [
        {
          "name": "stdout",
          "output_type": "stream",
          "text": [
            "1303\n",
            "816\n",
            "1132\n"
          ]
        }
      ],
      "source": [
        "print(len(os.listdir('/content/PLD_3_Classes_256/Training/Early_Blight')))\n",
        "print(len(os.listdir('/content/PLD_3_Classes_256/Training/Healthy')))\n",
        "print(len(os.listdir('/content/PLD_3_Classes_256/Training/Late_Blight')))"
      ]
    },
    {
      "cell_type": "code",
      "execution_count": null,
      "metadata": {
        "colab": {
          "base_uri": "https://localhost:8080/"
        },
        "id": "Rg5XQkOvynpW",
        "outputId": "6d4692f0-d944-4245-ee4d-ef06de27bbf2"
      },
      "outputs": [
        {
          "name": "stdout",
          "output_type": "stream",
          "text": [
            "163\n",
            "102\n",
            "151\n"
          ]
        }
      ],
      "source": [
        "print(len(os.listdir('/content/PLD_3_Classes_256/Validation/Early_Blight')))\n",
        "print(len(os.listdir('/content/PLD_3_Classes_256/Validation/Healthy')))\n",
        "print(len(os.listdir('/content/PLD_3_Classes_256/Validation/Late_Blight')))"
      ]
    },
    {
      "cell_type": "code",
      "execution_count": null,
      "metadata": {
        "id": "8aHxAoswlBQk"
      },
      "outputs": [],
      "source": [
        "os.mkdir('train')\n",
        "os.mkdir('valid')\n",
        "os.mkdir('test')"
      ]
    },
    {
      "cell_type": "code",
      "execution_count": null,
      "metadata": {
        "id": "ovgHDF6alEji"
      },
      "outputs": [],
      "source": [
        "os.mkdir('train/Early_Blight')\n",
        "os.mkdir('train/Healthy')\n",
        "os.mkdir('train/Late_Blight')\n",
        "\n",
        "os.mkdir('valid/Early_Blight')\n",
        "os.mkdir('valid/Healthy')\n",
        "os.mkdir('valid/Late_Blight')\n",
        "\n",
        "os.mkdir('test/Early_Blight')\n",
        "os.mkdir('test/Healthy')\n",
        "os.mkdir('test/Late_Blight')"
      ]
    },
    {
      "cell_type": "code",
      "execution_count": null,
      "metadata": {
        "colab": {
          "base_uri": "https://localhost:8080/"
        },
        "id": "dsFeE_Fhm9w4",
        "outputId": "c27758ab-f9ea-462f-98ca-ea6dc039f5f1"
      },
      "outputs": [
        {
          "name": "stdout",
          "output_type": "stream",
          "text": [
            "1303\n"
          ]
        }
      ],
      "source": [
        "print(len(os.listdir(('/content/PLD_3_Classes_256/Training/Early_Blight'))))"
      ]
    },
    {
      "cell_type": "code",
      "execution_count": null,
      "metadata": {
        "id": "FQD9418_lchH"
      },
      "outputs": [],
      "source": [
        "dir_1 = '/content/PLD_3_Classes_256/Training/Early_Blight'\n",
        "dir_2 = '/content/train/Early_Blight'\n",
        "\n",
        "dir1_lst = os.listdir(dir_1)\n",
        "dir1_lst.sort()\n",
        "\n",
        "for img in dir1_lst[:815]:\n",
        "  shutil.move(os.path.join(dir_1, img), os.path.join(dir_2, img))\n",
        "\n",
        "\n",
        "\n",
        "dir_1 = '/content/PLD_3_Classes_256/Testing/Early_Blight'\n",
        "dir_2 = '/content/test/Early_Blight'\n",
        "\n",
        "dir1_lst = os.listdir(dir_1)\n",
        "dir1_lst.sort()\n",
        "\n",
        "for img in dir1_lst[:]:\n",
        "  shutil.move(os.path.join(dir_1, img), os.path.join(dir_2, img))\n",
        "\n",
        "\n",
        "\n",
        "dir_1 = '/content/PLD_3_Classes_256/Validation/Early_Blight'\n",
        "dir_2 = '/content/valid/Early_Blight'\n",
        "\n",
        "dir1_lst = os.listdir(dir_1)\n",
        "dir1_lst.sort()\n",
        "\n",
        "for img in dir1_lst[:100]:\n",
        "  shutil.move(os.path.join(dir_1, img), os.path.join(dir_2, img))"
      ]
    },
    {
      "cell_type": "code",
      "execution_count": null,
      "metadata": {
        "colab": {
          "base_uri": "https://localhost:8080/"
        },
        "id": "2QR8gHAWmNNZ",
        "outputId": "51f92974-49d9-4901-d6bb-1296bd3db465"
      },
      "outputs": [
        {
          "name": "stdout",
          "output_type": "stream",
          "text": [
            "815\n",
            "162\n",
            "100\n"
          ]
        }
      ],
      "source": [
        "print(len(os.listdir(('/content/train/Early_Blight'))))\n",
        "print(len(os.listdir(('/content/test/Early_Blight'))))\n",
        "print(len(os.listdir(('/content/valid/Early_Blight'))))"
      ]
    },
    {
      "cell_type": "code",
      "execution_count": null,
      "metadata": {
        "id": "y6zvxdKJlcjX"
      },
      "outputs": [],
      "source": [
        "dir_1 = '/content/PLD_3_Classes_256/Training/Healthy'\n",
        "dir_2 = '/content/train/Healthy'\n",
        "\n",
        "dir1_lst = os.listdir(dir_1)\n",
        "dir1_lst.sort()\n",
        "\n",
        "for img in dir1_lst[:815]:\n",
        "  shutil.move(os.path.join(dir_1, img), os.path.join(dir_2, img))\n",
        "\n",
        "\n",
        "\n",
        "dir_1 = '/content/PLD_3_Classes_256/Testing/Healthy'\n",
        "dir_2 = '/content/test/Healthy'\n",
        "\n",
        "dir1_lst = os.listdir(dir_1)\n",
        "dir1_lst.sort()\n",
        "\n",
        "for img in dir1_lst[:]:\n",
        "  shutil.move(os.path.join(dir_1, img), os.path.join(dir_2, img))\n",
        "\n",
        "\n",
        "\n",
        "dir_1 = '/content/PLD_3_Classes_256/Validation/Healthy'\n",
        "dir_2 = '/content/valid/Healthy'\n",
        "\n",
        "dir1_lst = os.listdir(dir_1)\n",
        "dir1_lst.sort()\n",
        "\n",
        "for img in dir1_lst[:100]:\n",
        "  shutil.move(os.path.join(dir_1, img), os.path.join(dir_2, img))"
      ]
    },
    {
      "cell_type": "code",
      "execution_count": null,
      "metadata": {
        "colab": {
          "base_uri": "https://localhost:8080/"
        },
        "id": "7-RdjJx0nsev",
        "outputId": "613138cb-f307-40f5-f2f4-afe754cb0af1"
      },
      "outputs": [
        {
          "name": "stdout",
          "output_type": "stream",
          "text": [
            "815\n",
            "102\n",
            "100\n"
          ]
        }
      ],
      "source": [
        "print(len(os.listdir(('/content/train/Healthy'))))\n",
        "print(len(os.listdir(('/content/test/Healthy'))))\n",
        "print(len(os.listdir(('/content/valid/Healthy'))))"
      ]
    },
    {
      "cell_type": "code",
      "execution_count": null,
      "metadata": {
        "id": "NbJzM0d6lclt"
      },
      "outputs": [],
      "source": [
        "dir_1 = '/content/PLD_3_Classes_256/Training/Late_Blight'\n",
        "dir_2 = '/content/train/Late_Blight'\n",
        "\n",
        "dir1_lst = os.listdir(dir_1)\n",
        "dir1_lst.sort()\n",
        "\n",
        "for img in dir1_lst[:815]:\n",
        "  shutil.move(os.path.join(dir_1, img), os.path.join(dir_2, img))\n",
        "\n",
        "\n",
        "\n",
        "dir_1 = '/content/PLD_3_Classes_256/Testing/Late_Blight'\n",
        "dir_2 = '/content/test/Late_Blight'\n",
        "\n",
        "dir1_lst = os.listdir(dir_1)\n",
        "dir1_lst.sort()\n",
        "\n",
        "for img in dir1_lst[:]:\n",
        "  shutil.move(os.path.join(dir_1, img), os.path.join(dir_2, img))\n",
        "\n",
        "\n",
        "\n",
        "dir_1 = '/content/PLD_3_Classes_256/Validation/Late_Blight'\n",
        "dir_2 = '/content/valid/Late_Blight'\n",
        "\n",
        "dir1_lst = os.listdir(dir_1)\n",
        "dir1_lst.sort()\n",
        "\n",
        "for img in dir1_lst[:100]:\n",
        "  shutil.move(os.path.join(dir_1, img), os.path.join(dir_2, img))"
      ]
    },
    {
      "cell_type": "code",
      "execution_count": null,
      "metadata": {
        "colab": {
          "base_uri": "https://localhost:8080/"
        },
        "id": "L1hOLPain3W4",
        "outputId": "988f3635-55a9-47a6-c778-0a8c4eeae155"
      },
      "outputs": [
        {
          "name": "stdout",
          "output_type": "stream",
          "text": [
            "815\n",
            "141\n",
            "100\n"
          ]
        }
      ],
      "source": [
        "print(len(os.listdir(('/content/train/Late_Blight'))))\n",
        "print(len(os.listdir(('/content/test/Late_Blight'))))\n",
        "print(len(os.listdir(('/content/valid/Late_Blight'))))"
      ]
    },
    {
      "cell_type": "code",
      "execution_count": null,
      "metadata": {
        "colab": {
          "base_uri": "https://localhost:8080/"
        },
        "id": "58_VNGmwy67h",
        "outputId": "4dad2d5d-9e5f-4b62-a1b6-eb928d42ccd4"
      },
      "outputs": [
        {
          "name": "stdout",
          "output_type": "stream",
          "text": [
            "Found 2445 images belonging to 3 classes.\n",
            "Found 300 images belonging to 3 classes.\n",
            "Found 405 images belonging to 3 classes.\n"
          ]
        }
      ],
      "source": [
        "train_data_gen = ImageDataGenerator(rescale=1/255)\n",
        "validation_data_gen = ImageDataGenerator(rescale=1/255)\n",
        "test_data_gen = ImageDataGenerator(rescale=1/255)\n",
        "\n",
        "\n",
        "train_gen = train_data_gen.flow_from_directory(\n",
        "    '/content/train',\n",
        "    target_size = (256,256),\n",
        "    batch_size = 32,\n",
        "    class_mode = 'categorical'\n",
        ")\n",
        "\n",
        "val_gen = train_data_gen.flow_from_directory(\n",
        "    '/content/valid',\n",
        "    target_size = (256,256),\n",
        "    batch_size = 16,\n",
        "    class_mode = 'categorical'\n",
        ")\n",
        "\n",
        "test_gen = train_data_gen.flow_from_directory(\n",
        "    '/content/test',\n",
        "    target_size = (256,256),\n",
        "    batch_size = 8,\n",
        "    class_mode = 'categorical'\n",
        ")"
      ]
    },
    {
      "cell_type": "code",
      "execution_count": null,
      "metadata": {
        "id": "XJa5SwiizWvM"
      },
      "outputs": [],
      "source": [
        "model = Sequential()\n",
        "model.add(layers.Conv2D(input_shape=(256, 256, 3), filters=64,kernel_size=(3,3), padding=\"same\",activation='relu'))\n",
        "model.add(layers.Conv2D(filters=32,kernel_size=(3,3), padding=\"same\",activation='relu'))\n",
        "model.add(layers.MaxPooling2D((2, 2)))\n",
        "model.add(layers.Conv2D(128, (3, 3), activation='relu'))\n",
        "model.add(layers.MaxPooling2D((2, 2)))\n",
        "model.add(layers.Conv2D(64, (3, 3), activation='relu'))\n",
        "model.add(layers.MaxPooling2D((2, 2)))\n",
        "model.add(layers.Conv2D(128, (3, 3), activation='relu'))\n",
        "model.add(layers.MaxPooling2D((2, 2)))\n",
        "model.add(layers.Conv2D(64, (3, 3), activation='relu'))\n",
        "model.add(layers.MaxPooling2D((2, 2)))\n",
        "model.add(layers.Conv2D(128, (3, 3), activation='relu'))\n",
        "model.add(layers.MaxPooling2D((2, 2)))"
      ]
    },
    {
      "cell_type": "code",
      "execution_count": null,
      "metadata": {
        "id": "-OEq6Vy6zbxB"
      },
      "outputs": [],
      "source": [
        "model.add(layers.Flatten())\n",
        "model.add(layers.Dense(512, activation='relu'))\n",
        "model.add(layers.Dense(256, activation='relu'))\n",
        "model.add(layers.Dense(128, activation='relu'))\n",
        "model.add(layers.Dense(3,activation='softmax'))"
      ]
    },
    {
      "cell_type": "code",
      "execution_count": null,
      "metadata": {
        "colab": {
          "base_uri": "https://localhost:8080/"
        },
        "id": "kckQttO7zp0_",
        "outputId": "8f2b462d-8c28-439d-f60a-6b5763c8445a"
      },
      "outputs": [
        {
          "name": "stdout",
          "output_type": "stream",
          "text": [
            "Model: \"sequential\"\n",
            "_________________________________________________________________\n",
            " Layer (type)                Output Shape              Param #   \n",
            "=================================================================\n",
            " conv2d (Conv2D)             (None, 256, 256, 64)      1792      \n",
            "                                                                 \n",
            " conv2d_1 (Conv2D)           (None, 256, 256, 32)      18464     \n",
            "                                                                 \n",
            " max_pooling2d (MaxPooling2D  (None, 128, 128, 32)     0         \n",
            " )                                                               \n",
            "                                                                 \n",
            " conv2d_2 (Conv2D)           (None, 126, 126, 128)     36992     \n",
            "                                                                 \n",
            " max_pooling2d_1 (MaxPooling  (None, 63, 63, 128)      0         \n",
            " 2D)                                                             \n",
            "                                                                 \n",
            " conv2d_3 (Conv2D)           (None, 61, 61, 64)        73792     \n",
            "                                                                 \n",
            " max_pooling2d_2 (MaxPooling  (None, 30, 30, 64)       0         \n",
            " 2D)                                                             \n",
            "                                                                 \n",
            " conv2d_4 (Conv2D)           (None, 28, 28, 128)       73856     \n",
            "                                                                 \n",
            " max_pooling2d_3 (MaxPooling  (None, 14, 14, 128)      0         \n",
            " 2D)                                                             \n",
            "                                                                 \n",
            " conv2d_5 (Conv2D)           (None, 12, 12, 64)        73792     \n",
            "                                                                 \n",
            " max_pooling2d_4 (MaxPooling  (None, 6, 6, 64)         0         \n",
            " 2D)                                                             \n",
            "                                                                 \n",
            " conv2d_6 (Conv2D)           (None, 4, 4, 128)         73856     \n",
            "                                                                 \n",
            " max_pooling2d_5 (MaxPooling  (None, 2, 2, 128)        0         \n",
            " 2D)                                                             \n",
            "                                                                 \n",
            " flatten (Flatten)           (None, 512)               0         \n",
            "                                                                 \n",
            " dense (Dense)               (None, 512)               262656    \n",
            "                                                                 \n",
            " dense_1 (Dense)             (None, 256)               131328    \n",
            "                                                                 \n",
            " dense_2 (Dense)             (None, 128)               32896     \n",
            "                                                                 \n",
            " dense_3 (Dense)             (None, 3)                 387       \n",
            "                                                                 \n",
            "=================================================================\n",
            "Total params: 779,811\n",
            "Trainable params: 779,811\n",
            "Non-trainable params: 0\n",
            "_________________________________________________________________\n"
          ]
        }
      ],
      "source": [
        "model.summary()"
      ]
    },
    {
      "cell_type": "code",
      "execution_count": null,
      "metadata": {
        "id": "G-D1fduozsIq"
      },
      "outputs": [],
      "source": [
        "from tensorflow.keras.optimizers import Adam\n",
        "model.compile(loss = 'categorical_crossentropy',\n",
        "             optimizer = 'Adam',\n",
        "             metrics = ['accuracy'])"
      ]
    },
    {
      "cell_type": "code",
      "execution_count": null,
      "metadata": {
        "colab": {
          "base_uri": "https://localhost:8080/"
        },
        "id": "phMKNsugz9tp",
        "outputId": "0a7f3389-aa5b-4e23-f67d-b57929f09e4c"
      },
      "outputs": [
        {
          "name": "stdout",
          "output_type": "stream",
          "text": [
            "Epoch 1/10\n",
            "77/77 [==============================] - 27s 210ms/step - loss: 1.0543 - accuracy: 0.4270 - val_loss: 1.0669 - val_accuracy: 0.3933\n",
            "Epoch 2/10\n",
            "77/77 [==============================] - 14s 182ms/step - loss: 0.9219 - accuracy: 0.6078 - val_loss: 0.8910 - val_accuracy: 0.6400\n",
            "Epoch 3/10\n",
            "77/77 [==============================] - 14s 183ms/step - loss: 0.8660 - accuracy: 0.6249 - val_loss: 0.8217 - val_accuracy: 0.6667\n",
            "Epoch 4/10\n",
            "77/77 [==============================] - 14s 184ms/step - loss: 0.7672 - accuracy: 0.6822 - val_loss: 0.7162 - val_accuracy: 0.6933\n",
            "Epoch 5/10\n",
            "77/77 [==============================] - 14s 187ms/step - loss: 0.7090 - accuracy: 0.6973 - val_loss: 0.6826 - val_accuracy: 0.7467\n",
            "Epoch 6/10\n",
            "77/77 [==============================] - 14s 185ms/step - loss: 0.6454 - accuracy: 0.7354 - val_loss: 0.6893 - val_accuracy: 0.6933\n",
            "Epoch 7/10\n",
            "77/77 [==============================] - 14s 186ms/step - loss: 0.6475 - accuracy: 0.7280 - val_loss: 0.6698 - val_accuracy: 0.7233\n",
            "Epoch 8/10\n",
            "77/77 [==============================] - 14s 187ms/step - loss: 0.5164 - accuracy: 0.7881 - val_loss: 0.4315 - val_accuracy: 0.8367\n",
            "Epoch 9/10\n",
            "77/77 [==============================] - 15s 188ms/step - loss: 0.3574 - accuracy: 0.8618 - val_loss: 0.3310 - val_accuracy: 0.8600\n",
            "Epoch 10/10\n",
            "77/77 [==============================] - 15s 193ms/step - loss: 0.3043 - accuracy: 0.8855 - val_loss: 0.2364 - val_accuracy: 0.9167\n"
          ]
        }
      ],
      "source": [
        "model_fit = model.fit(train_gen,\n",
        "                     epochs = 10,\n",
        "                    verbose = 1,\n",
        "                     validation_data = val_gen)"
      ]
    },
    {
      "cell_type": "code",
      "execution_count": null,
      "metadata": {
        "id": "txnq0tyh4Spw"
      },
      "outputs": [],
      "source": [
        "score = model.evaluate(test_gen, verbose=0)"
      ]
    },
    {
      "cell_type": "code",
      "execution_count": null,
      "metadata": {
        "colab": {
          "base_uri": "https://localhost:8080/"
        },
        "id": "RTavTzsY4Vyv",
        "outputId": "792ead62-c792-4483-d480-f8376b56c6ff"
      },
      "outputs": [
        {
          "name": "stdout",
          "output_type": "stream",
          "text": [
            "Accuracy of evaluation data is  0.8913580179214478\n"
          ]
        }
      ],
      "source": [
        "print(\"Accuracy of evaluation data is \",score[1])"
      ]
    },
    {
      "cell_type": "code",
      "execution_count": null,
      "metadata": {
        "id": "sTTmuT4n_DWR"
      },
      "outputs": [],
      "source": [
        "model.save('new_simple_model.h5')"
      ]
    },
    {
      "cell_type": "code",
      "execution_count": null,
      "metadata": {
        "colab": {
          "base_uri": "https://localhost:8080/"
        },
        "id": "O8HIGDERpbHL",
        "outputId": "4eb54951-8581-4490-8b6c-bd02ee15c124"
      },
      "outputs": [
        {
          "name": "stdout",
          "output_type": "stream",
          "text": [
            "51/51 [==============================] - 1s 21ms/step\n"
          ]
        }
      ],
      "source": [
        "preds = model.predict(test_gen)"
      ]
    },
    {
      "cell_type": "code",
      "execution_count": null,
      "metadata": {
        "id": "xd8FVp5Pp2cS"
      },
      "outputs": [],
      "source": [
        "import numpy as np\n",
        "prediction = np.argmax(preds, axis = 1)"
      ]
    },
    {
      "cell_type": "code",
      "execution_count": null,
      "metadata": {
        "colab": {
          "base_uri": "https://localhost:8080/"
        },
        "id": "PxXVKEx_qjEY",
        "outputId": "98ace93f-9a40-4fa9-982f-4dc52f03ca85"
      },
      "outputs": [
        {
          "data": {
            "text/plain": [
              "array([0, 0, 1, 0, 1, 0, 2, 0, 0, 1, 1, 1, 2, 2, 1, 0, 2, 2, 2, 0, 1, 2,\n",
              "       2, 2, 0, 0, 2, 0, 0, 0, 2, 0, 2, 2, 2, 0, 0, 1, 0, 0, 0, 0, 0, 2,\n",
              "       1, 1, 0, 2, 2, 2, 1, 2, 0, 2, 0, 1, 0, 2, 0, 1, 2, 0, 0, 0, 0, 2,\n",
              "       1, 1, 0, 2, 0, 2, 0, 1, 1, 0, 2, 2, 1, 2, 1, 1, 1, 2, 2, 1, 0, 2,\n",
              "       2, 0, 1, 1, 0, 2, 0, 2, 2, 0, 2, 2, 0, 2, 0, 1, 2, 2, 1, 2, 1, 1,\n",
              "       1, 0, 2, 2, 0, 2, 2, 0, 0, 0, 0, 0, 2, 0, 1, 2, 1, 0, 2, 1, 0, 0,\n",
              "       0, 0, 2, 2, 2, 2, 0, 2, 1, 0, 0, 0, 2, 2, 2, 0, 2, 2, 1, 1, 0, 0,\n",
              "       0, 0, 2, 0, 2, 1, 0, 2, 2, 0, 1, 1, 1, 0, 0, 0, 2, 2, 2, 2, 1, 0,\n",
              "       0, 1, 0, 2, 0, 0, 0, 1, 0, 0, 2, 0, 0, 1, 1, 2, 2, 1, 2, 2, 2, 0,\n",
              "       0, 2, 2, 1, 2, 2, 1, 0, 0, 0, 0, 0, 0, 2, 2, 2, 0, 2, 1, 2, 0, 2,\n",
              "       1, 0, 0, 0, 0, 2, 1, 0, 1, 1, 0, 2, 0, 0, 0, 2, 2, 1, 0, 0, 2, 1,\n",
              "       0, 0, 1, 2, 0, 0, 2, 2, 2, 0, 1, 2, 0, 2, 0, 1, 1, 0, 1, 0, 0, 2,\n",
              "       0, 1, 1, 0, 2, 1, 2, 2, 1, 0, 0, 2, 1, 2, 2, 1, 0, 0, 1, 2, 2, 2,\n",
              "       2, 0, 2, 2, 2, 1, 2, 2, 0, 2, 2, 0, 2, 0, 1, 1, 2, 2, 1, 0, 0, 1,\n",
              "       1, 2, 2, 0, 0, 1, 0, 0, 0, 2, 0, 1, 2, 0, 2, 2, 1, 0, 1, 1, 1, 0,\n",
              "       0, 0, 0, 0, 0, 2, 0, 2, 1, 2, 2, 2, 2, 2, 0, 0, 0, 1, 0, 2, 0, 2,\n",
              "       0, 2, 0, 1, 2, 2, 0, 2, 1, 1, 1, 1, 1, 0, 0, 2, 0, 2, 1, 0, 2, 1,\n",
              "       2, 1, 1, 2, 0, 1, 1, 0, 0, 0, 0, 0, 2, 0, 0, 2, 2, 1, 2, 1, 0, 2,\n",
              "       2, 2, 1, 2, 0, 1, 1, 2, 0])"
            ]
          },
          "execution_count": 25,
          "metadata": {},
          "output_type": "execute_result"
        }
      ],
      "source": [
        "prediction"
      ]
    },
    {
      "cell_type": "code",
      "execution_count": null,
      "metadata": {
        "id": "cYoU3TjEpeZg"
      },
      "outputs": [],
      "source": [
        "from sklearn.metrics import confusion_matrix"
      ]
    },
    {
      "cell_type": "code",
      "execution_count": null,
      "metadata": {
        "colab": {
          "base_uri": "https://localhost:8080/"
        },
        "id": "zxzjYNhvpu2Z",
        "outputId": "703c35d1-7fc3-4d0a-d00c-cc3a71926fe9"
      },
      "outputs": [
        {
          "name": "stdout",
          "output_type": "stream",
          "text": [
            "[[65 36 61]\n",
            " [45 23 34]\n",
            " [50 38 53]]\n"
          ]
        }
      ],
      "source": [
        "print(confusion_matrix(test_gen.labels, prediction))"
      ]
    },
    {
      "cell_type": "code",
      "execution_count": null,
      "metadata": {
        "colab": {
          "base_uri": "https://localhost:8080/"
        },
        "id": "8WxP3fGLrIj4",
        "outputId": "694da58d-3c35-4b88-8cbb-d97f6136a510"
      },
      "outputs": [
        {
          "name": "stdout",
          "output_type": "stream",
          "text": [
            "77/77 [==============================] - 6s 81ms/step\n",
            "[[276 278 261]\n",
            " [262 282 271]\n",
            " [293 245 277]]\n"
          ]
        }
      ],
      "source": [
        "preds = model.predict(train_gen)\n",
        "prediction = np.argmax(preds, axis = 1)\n",
        "print(confusion_matrix(train_gen.labels, prediction))"
      ]
    },
    {
      "cell_type": "code",
      "execution_count": null,
      "metadata": {
        "id": "59E1nZIg1SjV"
      },
      "outputs": [],
      "source": [
        "model3 = tf.keras.Sequential([\n",
        "    layers.Conv2D(32,(3,3),activation='relu',input_shape=(256,256,3)),\n",
        "    layers.MaxPooling2D((2,2)),\n",
        "    layers.Conv2D(64,(3,3),activation='relu'),\n",
        "    layers.MaxPooling2D((2,2)),\n",
        "    layers.Conv2D(64,(3,3),activation='relu'),\n",
        "    layers.MaxPooling2D((2,2)),\n",
        "    layers.Conv2D(64,(3,3),activation='relu'),\n",
        "    layers.MaxPooling2D((2,2)),\n",
        "    layers.Conv2D(64,(3,3),activation='relu'),\n",
        "    layers.MaxPooling2D((2,2)),\n",
        "    layers.Conv2D(64,(3,3),activation='relu'),\n",
        "    layers.MaxPooling2D((2,2)),\n",
        "    layers.Flatten(),\n",
        "    layers.Dense(64,activation='relu'),\n",
        "    layers.Dense(3,activation='softmax'),\n",
        "])"
      ]
    },
    {
      "cell_type": "code",
      "execution_count": null,
      "metadata": {
        "colab": {
          "base_uri": "https://localhost:8080/"
        },
        "id": "2HvGKevctFCV",
        "outputId": "4ae079e1-1c51-41fd-8f44-f7afdb9b584a"
      },
      "outputs": [
        {
          "name": "stdout",
          "output_type": "stream",
          "text": [
            "Model: \"sequential_1\"\n",
            "_________________________________________________________________\n",
            " Layer (type)                Output Shape              Param #   \n",
            "=================================================================\n",
            " conv2d_7 (Conv2D)           (None, 254, 254, 32)      896       \n",
            "                                                                 \n",
            " max_pooling2d_6 (MaxPooling  (None, 127, 127, 32)     0         \n",
            " 2D)                                                             \n",
            "                                                                 \n",
            " conv2d_8 (Conv2D)           (None, 125, 125, 64)      18496     \n",
            "                                                                 \n",
            " max_pooling2d_7 (MaxPooling  (None, 62, 62, 64)       0         \n",
            " 2D)                                                             \n",
            "                                                                 \n",
            " conv2d_9 (Conv2D)           (None, 60, 60, 64)        36928     \n",
            "                                                                 \n",
            " max_pooling2d_8 (MaxPooling  (None, 30, 30, 64)       0         \n",
            " 2D)                                                             \n",
            "                                                                 \n",
            " conv2d_10 (Conv2D)          (None, 28, 28, 64)        36928     \n",
            "                                                                 \n",
            " max_pooling2d_9 (MaxPooling  (None, 14, 14, 64)       0         \n",
            " 2D)                                                             \n",
            "                                                                 \n",
            " conv2d_11 (Conv2D)          (None, 12, 12, 64)        36928     \n",
            "                                                                 \n",
            " max_pooling2d_10 (MaxPoolin  (None, 6, 6, 64)         0         \n",
            " g2D)                                                            \n",
            "                                                                 \n",
            " conv2d_12 (Conv2D)          (None, 4, 4, 64)          36928     \n",
            "                                                                 \n",
            " max_pooling2d_11 (MaxPoolin  (None, 2, 2, 64)         0         \n",
            " g2D)                                                            \n",
            "                                                                 \n",
            " flatten_1 (Flatten)         (None, 256)               0         \n",
            "                                                                 \n",
            " dense_4 (Dense)             (None, 64)                16448     \n",
            "                                                                 \n",
            " dense_5 (Dense)             (None, 3)                 195       \n",
            "                                                                 \n",
            "=================================================================\n",
            "Total params: 183,747\n",
            "Trainable params: 183,747\n",
            "Non-trainable params: 0\n",
            "_________________________________________________________________\n"
          ]
        }
      ],
      "source": [
        "model3.summary()"
      ]
    },
    {
      "cell_type": "code",
      "execution_count": null,
      "metadata": {
        "id": "QT4-P1181ZT3"
      },
      "outputs": [],
      "source": [
        "model3.compile(loss = 'categorical_crossentropy',\n",
        "             optimizer = 'Adam',\n",
        "             metrics = ['accuracy'])"
      ]
    },
    {
      "cell_type": "code",
      "execution_count": null,
      "metadata": {
        "colab": {
          "base_uri": "https://localhost:8080/"
        },
        "id": "0Km-UwD_1edd",
        "outputId": "14d10915-4759-4ddb-bfce-34f9455ee243"
      },
      "outputs": [
        {
          "name": "stdout",
          "output_type": "stream",
          "text": [
            "Epoch 1/20\n",
            "77/77 [==============================] - 9s 102ms/step - loss: 1.0222 - accuracy: 0.4695 - val_loss: 0.8724 - val_accuracy: 0.6167\n",
            "Epoch 2/20\n",
            "77/77 [==============================] - 7s 91ms/step - loss: 0.9301 - accuracy: 0.5873 - val_loss: 0.8533 - val_accuracy: 0.5767\n",
            "Epoch 3/20\n",
            "77/77 [==============================] - 7s 90ms/step - loss: 0.8404 - accuracy: 0.6605 - val_loss: 0.6592 - val_accuracy: 0.7967\n",
            "Epoch 4/20\n",
            "77/77 [==============================] - 7s 89ms/step - loss: 0.6820 - accuracy: 0.7202 - val_loss: 0.5406 - val_accuracy: 0.7833\n",
            "Epoch 5/20\n",
            "77/77 [==============================] - 7s 89ms/step - loss: 0.5353 - accuracy: 0.7845 - val_loss: 0.4581 - val_accuracy: 0.8300\n",
            "Epoch 6/20\n",
            "77/77 [==============================] - 7s 88ms/step - loss: 0.4495 - accuracy: 0.8278 - val_loss: 0.3837 - val_accuracy: 0.8333\n",
            "Epoch 7/20\n",
            "77/77 [==============================] - 7s 88ms/step - loss: 0.3400 - accuracy: 0.8736 - val_loss: 0.2886 - val_accuracy: 0.8933\n",
            "Epoch 8/20\n",
            "77/77 [==============================] - 7s 88ms/step - loss: 0.2378 - accuracy: 0.9080 - val_loss: 0.2710 - val_accuracy: 0.8933\n",
            "Epoch 9/20\n",
            "77/77 [==============================] - 7s 89ms/step - loss: 0.1942 - accuracy: 0.9292 - val_loss: 0.2817 - val_accuracy: 0.9067\n",
            "Epoch 10/20\n",
            "77/77 [==============================] - 7s 89ms/step - loss: 0.1911 - accuracy: 0.9301 - val_loss: 0.3675 - val_accuracy: 0.8933\n",
            "Epoch 11/20\n",
            "77/77 [==============================] - 7s 88ms/step - loss: 0.1529 - accuracy: 0.9472 - val_loss: 0.3112 - val_accuracy: 0.8933\n",
            "Epoch 12/20\n",
            "77/77 [==============================] - 7s 88ms/step - loss: 0.1239 - accuracy: 0.9562 - val_loss: 0.2096 - val_accuracy: 0.9367\n",
            "Epoch 13/20\n",
            "77/77 [==============================] - 7s 88ms/step - loss: 0.1302 - accuracy: 0.9538 - val_loss: 0.3775 - val_accuracy: 0.8867\n",
            "Epoch 14/20\n",
            "77/77 [==============================] - 7s 88ms/step - loss: 0.0984 - accuracy: 0.9652 - val_loss: 0.2057 - val_accuracy: 0.9333\n",
            "Epoch 15/20\n",
            "77/77 [==============================] - 8s 103ms/step - loss: 0.0847 - accuracy: 0.9730 - val_loss: 0.1708 - val_accuracy: 0.9433\n",
            "Epoch 16/20\n",
            "77/77 [==============================] - 7s 88ms/step - loss: 0.0746 - accuracy: 0.9734 - val_loss: 0.1843 - val_accuracy: 0.9467\n",
            "Epoch 17/20\n",
            "77/77 [==============================] - 7s 88ms/step - loss: 0.0838 - accuracy: 0.9734 - val_loss: 0.1869 - val_accuracy: 0.9333\n",
            "Epoch 18/20\n",
            "77/77 [==============================] - 7s 90ms/step - loss: 0.0653 - accuracy: 0.9759 - val_loss: 0.1641 - val_accuracy: 0.9533\n",
            "Epoch 19/20\n",
            "77/77 [==============================] - 7s 89ms/step - loss: 0.0476 - accuracy: 0.9849 - val_loss: 0.2070 - val_accuracy: 0.9400\n",
            "Epoch 20/20\n",
            "77/77 [==============================] - 7s 89ms/step - loss: 0.0633 - accuracy: 0.9775 - val_loss: 0.1444 - val_accuracy: 0.9600\n"
          ]
        }
      ],
      "source": [
        "model3_fit = model3.fit(train_gen,\n",
        "                      epochs = 20,\n",
        "                      verbose = 1,\n",
        "                      validation_data = val_gen)"
      ]
    },
    {
      "cell_type": "code",
      "execution_count": null,
      "metadata": {
        "id": "V5kYztRY4fpb"
      },
      "outputs": [],
      "source": [
        "score = model3.evaluate(test_gen, verbose=0)"
      ]
    },
    {
      "cell_type": "code",
      "execution_count": null,
      "metadata": {
        "colab": {
          "base_uri": "https://localhost:8080/"
        },
        "id": "APkeR5tf4hGq",
        "outputId": "a3210b83-0de7-49ea-e231-a28be44ffed6"
      },
      "outputs": [
        {
          "name": "stdout",
          "output_type": "stream",
          "text": [
            "Accuracy of evaluation data is  0.9580246806144714\n"
          ]
        }
      ],
      "source": [
        "print(\"Accuracy of evaluation data is \",score[1])"
      ]
    },
    {
      "cell_type": "code",
      "execution_count": null,
      "metadata": {
        "colab": {
          "base_uri": "https://localhost:8080/"
        },
        "id": "zi56l5i1spRZ",
        "outputId": "acb013af-3964-46de-ade2-bd8bfa96c384"
      },
      "outputs": [
        {
          "name": "stdout",
          "output_type": "stream",
          "text": [
            "77/77 [==============================] - 5s 69ms/step\n",
            "[[273 269 273]\n",
            " [276 261 278]\n",
            " [258 292 265]]\n"
          ]
        }
      ],
      "source": [
        "preds = model3.predict(train_gen)\n",
        "prediction = np.argmax(preds, axis = 1)\n",
        "print(confusion_matrix(train_gen.labels, prediction))"
      ]
    },
    {
      "cell_type": "code",
      "execution_count": null,
      "metadata": {
        "id": "-My9-BAV_VxQ"
      },
      "outputs": [],
      "source": [
        "model3.save('medium_model.h5')"
      ]
    },
    {
      "cell_type": "code",
      "execution_count": null,
      "metadata": {
        "id": "ff19mYHzeMP6"
      },
      "outputs": [],
      "source": [
        "model4 = tf.keras.Sequential([\n",
        "    layers.Conv2D(256,(3,3),activation='LeakyReLU',input_shape=(256,256,3)),\n",
        "    layers.MaxPooling2D((2,2)),\n",
        "    layers.Conv2D(128,(3,3),activation='LeakyReLU'),\n",
        "    layers.MaxPooling2D((2,2)),\n",
        "    layers.Conv2D(64,(3,3),activation='LeakyReLU'),\n",
        "    layers.MaxPooling2D((2,2)),\n",
        "    layers.Conv2D(32,(3,3),activation='LeakyReLU'),\n",
        "    layers.MaxPooling2D((2,2)),\n",
        "    layers.Conv2D(16,(3,3),activation='LeakyReLU'),\n",
        "    layers.MaxPooling2D((2,2)),\n",
        "    layers.Flatten(),\n",
        "    layers.Dense(128,activation='LeakyReLU'),\n",
        "    layers.Dense(64,activation='LeakyReLU'),\n",
        "    layers.Dense(3,activation='softmax'),\n",
        "])"
      ]
    },
    {
      "cell_type": "code",
      "execution_count": null,
      "metadata": {
        "id": "91GEY0kjhpzY"
      },
      "outputs": [],
      "source": [
        "model4.compile(loss = 'categorical_crossentropy',\n",
        "             optimizer = 'Adam',\n",
        "             metrics = ['accuracy'])"
      ]
    },
    {
      "cell_type": "code",
      "execution_count": null,
      "metadata": {
        "colab": {
          "base_uri": "https://localhost:8080/"
        },
        "id": "dvbFINn5iXpD",
        "outputId": "80cdbae1-a21a-4ca9-d4f4-83f5acf4dd44"
      },
      "outputs": [
        {
          "name": "stdout",
          "output_type": "stream",
          "text": [
            "Epoch 1/20\n",
            "77/77 [==============================] - 30s 377ms/step - loss: 1.0408 - accuracy: 0.4642 - val_loss: 0.9704 - val_accuracy: 0.5267\n",
            "Epoch 2/20\n",
            "77/77 [==============================] - 28s 360ms/step - loss: 0.9114 - accuracy: 0.5771 - val_loss: 0.8227 - val_accuracy: 0.6467\n",
            "Epoch 3/20\n",
            "77/77 [==============================] - 28s 360ms/step - loss: 0.7511 - accuracy: 0.6802 - val_loss: 0.6948 - val_accuracy: 0.7067\n",
            "Epoch 4/20\n",
            "77/77 [==============================] - 28s 364ms/step - loss: 0.5760 - accuracy: 0.7693 - val_loss: 0.5250 - val_accuracy: 0.7900\n",
            "Epoch 5/20\n",
            "77/77 [==============================] - 28s 362ms/step - loss: 0.3939 - accuracy: 0.8470 - val_loss: 0.3647 - val_accuracy: 0.8867\n",
            "Epoch 6/20\n",
            "77/77 [==============================] - 28s 363ms/step - loss: 0.3820 - accuracy: 0.8605 - val_loss: 0.5255 - val_accuracy: 0.7800\n",
            "Epoch 7/20\n",
            "77/77 [==============================] - 28s 363ms/step - loss: 0.3203 - accuracy: 0.8806 - val_loss: 0.2863 - val_accuracy: 0.8800\n",
            "Epoch 8/20\n",
            "77/77 [==============================] - 28s 364ms/step - loss: 0.1757 - accuracy: 0.9358 - val_loss: 0.2914 - val_accuracy: 0.8933\n",
            "Epoch 9/20\n",
            "77/77 [==============================] - 28s 363ms/step - loss: 0.1345 - accuracy: 0.9538 - val_loss: 0.2395 - val_accuracy: 0.9167\n",
            "Epoch 10/20\n",
            "77/77 [==============================] - 28s 362ms/step - loss: 0.1669 - accuracy: 0.9436 - val_loss: 0.1354 - val_accuracy: 0.9500\n",
            "Epoch 11/20\n",
            "77/77 [==============================] - 28s 364ms/step - loss: 0.1604 - accuracy: 0.9472 - val_loss: 0.3042 - val_accuracy: 0.9133\n",
            "Epoch 12/20\n",
            "77/77 [==============================] - 28s 364ms/step - loss: 0.0859 - accuracy: 0.9755 - val_loss: 0.2632 - val_accuracy: 0.9267\n",
            "Epoch 13/20\n",
            "77/77 [==============================] - 28s 362ms/step - loss: 0.0795 - accuracy: 0.9751 - val_loss: 0.1189 - val_accuracy: 0.9500\n",
            "Epoch 14/20\n",
            "77/77 [==============================] - 28s 362ms/step - loss: 0.0664 - accuracy: 0.9730 - val_loss: 0.2501 - val_accuracy: 0.9200\n",
            "Epoch 15/20\n",
            "77/77 [==============================] - 28s 363ms/step - loss: 0.0522 - accuracy: 0.9808 - val_loss: 0.1068 - val_accuracy: 0.9733\n",
            "Epoch 16/20\n",
            "77/77 [==============================] - 28s 363ms/step - loss: 0.0277 - accuracy: 0.9902 - val_loss: 0.1004 - val_accuracy: 0.9567\n",
            "Epoch 17/20\n",
            "77/77 [==============================] - 28s 362ms/step - loss: 0.0250 - accuracy: 0.9918 - val_loss: 0.1414 - val_accuracy: 0.9567\n",
            "Epoch 18/20\n",
            "77/77 [==============================] - 28s 363ms/step - loss: 0.0703 - accuracy: 0.9775 - val_loss: 0.2027 - val_accuracy: 0.9200\n",
            "Epoch 19/20\n",
            "77/77 [==============================] - 28s 363ms/step - loss: 0.0432 - accuracy: 0.9828 - val_loss: 0.3074 - val_accuracy: 0.9433\n",
            "Epoch 20/20\n",
            "77/77 [==============================] - 28s 362ms/step - loss: 0.0791 - accuracy: 0.9796 - val_loss: 0.1829 - val_accuracy: 0.9367\n"
          ]
        }
      ],
      "source": [
        "model4_fit = model4.fit(train_gen,\n",
        "                      epochs = 20,\n",
        "                      verbose = 1,\n",
        "                      validation_data = val_gen)"
      ]
    },
    {
      "cell_type": "code",
      "execution_count": null,
      "metadata": {
        "id": "Q9d1JmG1idZ0"
      },
      "outputs": [],
      "source": [
        "score = model4.evaluate(test_gen, verbose=0)"
      ]
    },
    {
      "cell_type": "code",
      "execution_count": null,
      "metadata": {
        "colab": {
          "base_uri": "https://localhost:8080/"
        },
        "id": "ct9UVvjukyuz",
        "outputId": "1155ab57-d9a8-4e5d-de29-b6268944def8"
      },
      "outputs": [
        {
          "name": "stdout",
          "output_type": "stream",
          "text": [
            "Accuracy of evaluation data is  0.9407407641410828\n"
          ]
        }
      ],
      "source": [
        "print(\"Accuracy of evaluation data is \",score[1])"
      ]
    },
    {
      "cell_type": "code",
      "execution_count": null,
      "metadata": {
        "colab": {
          "base_uri": "https://localhost:8080/"
        },
        "id": "r3s-udUXlJuX",
        "outputId": "4c788a71-891a-4d4c-f856-279312c15f4f"
      },
      "outputs": [
        {
          "name": "stdout",
          "output_type": "stream",
          "text": [
            "77/77 [==============================] - 10s 129ms/step\n",
            "[[270 267 278]\n",
            " [285 264 266]\n",
            " [265 277 273]]\n"
          ]
        }
      ],
      "source": [
        "preds = model4.predict(train_gen)\n"
      ]
    },
    {
      "cell_type": "code",
      "execution_count": null,
      "metadata": {
        "id": "Dy6GP4DvccO6"
      },
      "outputs": [],
      "source": [
        "prediction = np.argmax(preds, axis = 1)\n",
        "print(confusion_matrix(train_gen.labels, prediction))"
      ]
    },
    {
      "cell_type": "code",
      "execution_count": null,
      "metadata": {
        "colab": {
          "base_uri": "https://localhost:8080/"
        },
        "id": "DI5z2vLlXJaj",
        "outputId": "bd41f0d9-f616-498e-db90-824297ea0070"
      },
      "outputs": [
        {
          "data": {
            "text/plain": [
              "array([6.699941e-04, 5.354987e-06, 1.000000e+00], dtype=float32)"
            ]
          },
          "execution_count": 47,
          "metadata": {},
          "output_type": "execute_result"
        }
      ],
      "source": [
        "preds[6]"
      ]
    },
    {
      "cell_type": "code",
      "execution_count": null,
      "metadata": {
        "id": "OsDfm6n6lQMN"
      },
      "outputs": [],
      "source": [
        "import numpy as np"
      ]
    },
    {
      "cell_type": "code",
      "execution_count": null,
      "metadata": {
        "colab": {
          "base_uri": "https://localhost:8080/"
        },
        "id": "tVYdZxYPWWep",
        "outputId": "58dfd255-0c99-4ae1-de27-dcf7d42f188d"
      },
      "outputs": [
        {
          "name": "stdout",
          "output_type": "stream",
          "text": [
            "[4.1015996e-11 3.6575400e-08 1.0000000e+00]\n"
          ]
        }
      ],
      "source": [
        "print(preds[100])"
      ]
    },
    {
      "cell_type": "code",
      "execution_count": null,
      "metadata": {
        "id": "bF0srV6xW-Sb"
      },
      "outputs": [],
      "source": []
    }
  ],
  "metadata": {
    "accelerator": "GPU",
    "colab": {
      "authorship_tag": "ABX9TyNaFypDIgtcYccXAsZ79hKd",
      "include_colab_link": true,
      "mount_file_id": "1MdaHCUyILi-7VU6127mVZFNU01sJuKsN",
      "provenance": []
    },
    "gpuClass": "standard",
    "kernelspec": {
      "display_name": "Python 3",
      "name": "python3"
    },
    "language_info": {
      "codemirror_mode": {
        "name": "ipython",
        "version": 3
      },
      "file_extension": ".py",
      "mimetype": "text/x-python",
      "name": "python",
      "nbconvert_exporter": "python",
      "pygments_lexer": "ipython3",
      "version": "3.10.9"
    }
  },
  "nbformat": 4,
  "nbformat_minor": 0
}
